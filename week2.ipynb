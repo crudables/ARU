{
 "cells": [
  {
   "cell_type": "markdown",
   "id": "5bbd1f2d",
   "metadata": {},
   "source": [
    "##### Length of a string"
   ]
  },
  {
   "cell_type": "code",
   "execution_count": 1,
   "id": "b094f617",
   "metadata": {},
   "outputs": [
    {
     "data": {
      "text/plain": [
       "22"
      ]
     },
     "execution_count": 1,
     "metadata": {},
     "output_type": "execute_result"
    }
   ],
   "source": [
    "a = 'The length of a string'\n",
    "len(a)"
   ]
  },
  {
   "cell_type": "markdown",
   "id": "16b9efc0",
   "metadata": {},
   "source": [
    "#### sum of elements of a list"
   ]
  },
  {
   "cell_type": "code",
   "execution_count": 15,
   "id": "f2af3d46",
   "metadata": {},
   "outputs": [
    {
     "name": "stdout",
     "output_type": "stream",
     "text": [
      "109\n"
     ]
    }
   ],
   "source": [
    "list1 = [4,5,6,5,5,8,4,9,3,6,7,8,9,0,10,9,11]\n",
    "sum = 0\n",
    "\n",
    "for i in list1:\n",
    "    sum += i\n",
    "    \n",
    "print(sum)"
   ]
  },
  {
   "cell_type": "markdown",
   "id": "8d308fe7",
   "metadata": {},
   "source": [
    "##### largest element of a list"
   ]
  },
  {
   "cell_type": "code",
   "execution_count": 18,
   "id": "f207c6b8",
   "metadata": {},
   "outputs": [
    {
     "name": "stdout",
     "output_type": "stream",
     "text": [
      "22\n"
     ]
    }
   ],
   "source": [
    "list2 = [4,5,6,5,5,18,8,4,9,14,6,3,6,7,8,9,0,10,9,22,11]\n",
    "largest = 0\n",
    "for j in list2:\n",
    "    if j>largest:\n",
    "        largest = j\n",
    "        \n",
    "print(largest)\n",
    "    \n",
    "    \n",
    "    "
   ]
  },
  {
   "cell_type": "markdown",
   "id": "97219ced",
   "metadata": {},
   "source": [
    "#### replace word"
   ]
  },
  {
   "cell_type": "code",
   "execution_count": 39,
   "id": "b86f4294",
   "metadata": {},
   "outputs": [
    {
     "name": "stdout",
     "output_type": "stream",
     "text": [
      "arr$n$ge$\n"
     ]
    }
   ],
   "source": [
    "word = 'arranagea'\n",
    "lw = [i for i in word ]\n",
    "for x in range(len(lw)):\n",
    "    if x > 0 and lw[x] == lw[0]:\n",
    "        lw[x] = '$'\n",
    "        \n",
    "print(''.join(lw))"
   ]
  },
  {
   "cell_type": "code",
   "execution_count": 37,
   "id": "6a70459e",
   "metadata": {},
   "outputs": [
    {
     "name": "stdout",
     "output_type": "stream",
     "text": [
      "e\n"
     ]
    }
   ],
   "source": [
    "print(word[7])"
   ]
  },
  {
   "cell_type": "markdown",
   "id": "b5dfc6d6",
   "metadata": {},
   "source": [
    "##### remove duplicates"
   ]
  },
  {
   "cell_type": "code",
   "execution_count": 2,
   "id": "2d161a77",
   "metadata": {},
   "outputs": [
    {
     "name": "stdout",
     "output_type": "stream",
     "text": [
      "[7, 4, 2, 6, 8, 9, 3, 0]\n"
     ]
    }
   ],
   "source": [
    "original_list = [7,4,2,6,8,9,9,7,4,6,2,7,8,7,2,3,0,4,7]\n",
    "new_list = []\n",
    "for i in original_list:\n",
    "    if i not in new_list:\n",
    "        new_list.append(i)\n",
    "print(new_list)"
   ]
  },
  {
   "cell_type": "markdown",
   "id": "d80fd73a",
   "metadata": {},
   "source": [
    "##### Python Data Structures"
   ]
  },
  {
   "cell_type": "markdown",
   "id": "7f9094ba",
   "metadata": {},
   "source": [
    " ###### List"
   ]
  },
  {
   "cell_type": "code",
   "execution_count": 8,
   "id": "292c8df2",
   "metadata": {},
   "outputs": [
    {
     "name": "stdout",
     "output_type": "stream",
     "text": [
      "[1, 2, 3, 4, 'g', 4.5]\n"
     ]
    }
   ],
   "source": [
    "my_list = [1,2,3,4,'g',4.5]\n",
    "print(my_list)"
   ]
  },
  {
   "cell_type": "markdown",
   "id": "f26c897f",
   "metadata": {},
   "source": [
    "##### Tuple"
   ]
  },
  {
   "cell_type": "code",
   "execution_count": 9,
   "id": "04430dea",
   "metadata": {},
   "outputs": [
    {
     "name": "stdout",
     "output_type": "stream",
     "text": [
      "(2, 2, 5, 3.2, 'me')\n"
     ]
    }
   ],
   "source": [
    "my_tuple = (2,2,5,3.2,'me')\n",
    "print(my_tuple)"
   ]
  },
  {
   "cell_type": "markdown",
   "id": "f36eaca8",
   "metadata": {},
   "source": [
    "###### Dictionary"
   ]
  },
  {
   "cell_type": "code",
   "execution_count": 10,
   "id": "85da2d48",
   "metadata": {},
   "outputs": [
    {
     "name": "stdout",
     "output_type": "stream",
     "text": [
      "{'first_name': 'Saheed', 'last_name': 'Awolaju', 'age': 96, 'height': 5.83}\n"
     ]
    }
   ],
   "source": [
    "my_dictionary = {'first_name':'Saheed','last_name':'Awolaju','age':96,'height':5.83}\n",
    "print(my_dictionary)"
   ]
  },
  {
   "cell_type": "markdown",
   "id": "9107b1bb",
   "metadata": {},
   "source": [
    "###### Set"
   ]
  },
  {
   "cell_type": "code",
   "execution_count": 11,
   "id": "04d96c52",
   "metadata": {},
   "outputs": [
    {
     "name": "stdout",
     "output_type": "stream",
     "text": [
      "{1, 4, 54.5, 55, 'eye'}\n"
     ]
    }
   ],
   "source": [
    "my_set = {1,4,54.5,55,'eye','eye',4,55,4}\n",
    "print(my_set)"
   ]
  },
  {
   "cell_type": "code",
   "execution_count": null,
   "id": "3acfe795",
   "metadata": {},
   "outputs": [],
   "source": []
  }
 ],
 "metadata": {
  "kernelspec": {
   "display_name": "first_env",
   "language": "python",
   "name": "first_env"
  },
  "language_info": {
   "codemirror_mode": {
    "name": "ipython",
    "version": 3
   },
   "file_extension": ".py",
   "mimetype": "text/x-python",
   "name": "python",
   "nbconvert_exporter": "python",
   "pygments_lexer": "ipython3",
   "version": "3.9.7"
  }
 },
 "nbformat": 4,
 "nbformat_minor": 5
}
