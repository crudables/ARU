{
 "cells": [
  {
   "cell_type": "markdown",
   "id": "ca0e2820",
   "metadata": {},
   "source": [
    "### Calculator"
   ]
  },
  {
   "cell_type": "code",
   "execution_count": 34,
   "id": "98da3d22",
   "metadata": {},
   "outputs": [
    {
     "name": "stdout",
     "output_type": "stream",
     "text": [
      "Enter first number 56\n",
      "Enter second number9\n",
      "What do you want to do? \n",
      " enter + to add \n",
      " enter - to subtract \n",
      " enter * to multiply \n",
      " enter \\ to divide +\n",
      "result is 65\n"
     ]
    }
   ],
   "source": [
    "\n",
    "result =''\n",
    "def add(a,b):\n",
    "    return a+b\n",
    "    print('numbers add')\n",
    "\n",
    "def subtract(a,b):\n",
    "    return  a-b\n",
    "    print('numbers subtracted')\n",
    "\n",
    "def multiply(a,b):\n",
    "    return  a*b\n",
    "    print('numbers multiplied')\n",
    "\n",
    "def divide(a,b):\n",
    "    return  a/b\n",
    "    print('numbers divided')\n",
    "try:\n",
    "    a = int(input('Enter first number '))\n",
    "    b = int(input('Enter second number'))\n",
    "    \n",
    "except ValueError:\n",
    "    print('Please input a number')\n",
    "    \n",
    "op = input('What do you want to do? \\n enter + to add \\n enter - to subtract \\n enter * to multiply \\n enter \\\\ to divide ')\n",
    "\n",
    "if op == '+':\n",
    "    result = add(a,b)\n",
    "elif op == '-':\n",
    "    result = subtract(a,b)\n",
    "elif op == '*':\n",
    "    result = multiply(a,b)\n",
    "elif op == '\\\\':\n",
    "    result = divide(a,b)\n",
    "    \n",
    "else:\n",
    "    print('You have enter an invalid operation')\n",
    "    \n",
    "print(f'result is '+str(result))\n",
    "\n",
    "\n",
    "    "
   ]
  },
  {
   "cell_type": "markdown",
   "id": "be2b6f89",
   "metadata": {},
   "source": [
    "### Factorial"
   ]
  },
  {
   "cell_type": "code",
   "execution_count": 11,
   "id": "645d7620",
   "metadata": {},
   "outputs": [],
   "source": [
    "def factorial(n):\n",
    "    a=1;\n",
    "    while n>0:\n",
    "        a*=n\n",
    "        n-=1\n",
    "        print(f'n is {n}')\n",
    "    return a"
   ]
  },
  {
   "cell_type": "code",
   "execution_count": 13,
   "id": "46444735",
   "metadata": {},
   "outputs": [
    {
     "name": "stdout",
     "output_type": "stream",
     "text": [
      "n is 9\n",
      "n is 8\n",
      "n is 7\n",
      "n is 6\n",
      "n is 5\n",
      "n is 4\n",
      "n is 3\n",
      "n is 2\n",
      "n is 1\n",
      "n is 0\n"
     ]
    },
    {
     "data": {
      "text/plain": [
       "3628800"
      ]
     },
     "execution_count": 13,
     "metadata": {},
     "output_type": "execute_result"
    }
   ],
   "source": [
    "factorial(10)"
   ]
  },
  {
   "cell_type": "markdown",
   "id": "c938a895",
   "metadata": {},
   "source": [
    "### Fibonacci"
   ]
  },
  {
   "cell_type": "code",
   "execution_count": 37,
   "id": "f54ed29d",
   "metadata": {},
   "outputs": [],
   "source": [
    "def fibonacci(n):\n",
    "    nth = 0\n",
    "    count = 0\n",
    "    if(n<1):\n",
    "        return 'Please input a figure greater than 0'\n",
    "    else:\n",
    "        \n",
    "        x1 = 0\n",
    "        x2 = 1\n",
    "        if n == 1:\n",
    "            print(x1)\n",
    "        else:\n",
    "            while count < n:\n",
    "#                 print(f'x1 is {x1} and x2 is {x2}')\n",
    "                print(x1)\n",
    "                nth = x1+x2\n",
    "                x1 = x2\n",
    "                x2 = nth\n",
    "                count+=1\n",
    "#                 print(nth)"
   ]
  },
  {
   "cell_type": "code",
   "execution_count": 46,
   "id": "fb035565",
   "metadata": {},
   "outputs": [
    {
     "name": "stdout",
     "output_type": "stream",
     "text": [
      "0\n",
      "1\n",
      "1\n",
      "2\n",
      "3\n",
      "5\n",
      "8\n",
      "13\n",
      "21\n",
      "34\n",
      "55\n",
      "89\n",
      "144\n",
      "233\n",
      "377\n",
      "610\n",
      "987\n",
      "1597\n",
      "2584\n",
      "4181\n",
      "6765\n"
     ]
    }
   ],
   "source": [
    "fibonacci(21)"
   ]
  },
  {
   "cell_type": "markdown",
   "id": "f51c87f4",
   "metadata": {},
   "source": [
    "##### Bernoulli Number"
   ]
  },
  {
   "cell_type": "code",
   "execution_count": null,
   "id": "654e48d8",
   "metadata": {},
   "outputs": [],
   "source": []
  }
 ],
 "metadata": {
  "kernelspec": {
   "display_name": "Python 3 (ipykernel)",
   "language": "python",
   "name": "python3"
  },
  "language_info": {
   "codemirror_mode": {
    "name": "ipython",
    "version": 3
   },
   "file_extension": ".py",
   "mimetype": "text/x-python",
   "name": "python",
   "nbconvert_exporter": "python",
   "pygments_lexer": "ipython3",
   "version": "3.9.7"
  }
 },
 "nbformat": 4,
 "nbformat_minor": 5
}
