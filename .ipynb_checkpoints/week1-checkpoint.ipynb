{
 "cells": [
  {
   "cell_type": "code",
   "execution_count": 6,
   "id": "9a0193f1",
   "metadata": {},
   "outputs": [
    {
     "name": "stdout",
     "output_type": "stream",
     "text": [
      "Enter name 1Matt\n",
      "Name1: Matt\n",
      "Enter name 2James\n",
      "Name2: James\n",
      "Enter name 3Shola\n",
      "Name3: Shola\n"
     ]
    }
   ],
   "source": [
    "i = 1\n",
    "\n",
    "while i<=3:\n",
    "    name =input('Enter name '+str(i))\n",
    "    print(f'Name{i}: {name}')\n",
    "    i+=1"
   ]
  },
  {
   "cell_type": "code",
   "execution_count": 10,
   "id": "f7565f4b",
   "metadata": {},
   "outputs": [
    {
     "name": "stdout",
     "output_type": "stream",
     "text": [
      "Pls enter three names separated by spaceigyg uyfuyf uftfy\n",
      "Name1: igyg\n",
      "Name2: uyfuyf\n",
      "Name3: uftfy\n"
     ]
    }
   ],
   "source": [
    "names = input('Pls enter three names separated by space')\n",
    "names = names.split()\n",
    "for i in range(0,3):\n",
    "    print(f'Name{i+1}: {names[i]}')"
   ]
  },
  {
   "cell_type": "code",
   "execution_count": 11,
   "id": "5dbcd8ca",
   "metadata": {},
   "outputs": [
    {
     "name": "stdout",
     "output_type": "stream",
     "text": [
      "bdjfdhdf\n",
      "fsgisfuis\n",
      "hzhdh\n"
     ]
    }
   ],
   "source": []
  },
  {
   "cell_type": "code",
   "execution_count": null,
   "id": "6b3c50d6",
   "metadata": {},
   "outputs": [],
   "source": []
  },
  {
   "cell_type": "code",
   "execution_count": 12,
   "id": "1885a8d8",
   "metadata": {},
   "outputs": [
    {
     "name": "stdout",
     "output_type": "stream",
     "text": [
      "Name**is**James\n"
     ]
    }
   ],
   "source": [
    "print('Name'+'**'+'is'+'**'+'James')"
   ]
  },
  {
   "cell_type": "code",
   "execution_count": 16,
   "id": "2c3bc073",
   "metadata": {},
   "outputs": [
    {
     "name": "stdout",
     "output_type": "stream",
     "text": [
      "Current Number: 0 Previous Number: 0 Sum: 0 \n",
      "Current Number: 1 Previous Number: 0 Sum: 1 \n",
      "Current Number: 2 Previous Number: 1 Sum: 3 \n",
      "Current Number: 3 Previous Number: 2 Sum: 5 \n",
      "Current Number: 4 Previous Number: 3 Sum: 7 \n",
      "Current Number: 5 Previous Number: 4 Sum: 9 \n",
      "Current Number: 6 Previous Number: 5 Sum: 11 \n",
      "Current Number: 7 Previous Number: 6 Sum: 13 \n",
      "Current Number: 8 Previous Number: 7 Sum: 15 \n",
      "Current Number: 9 Previous Number: 8 Sum: 17 \n",
      "Current Number: 10 Previous Number: 9 Sum: 19 \n"
     ]
    }
   ],
   "source": [
    "previous = 0\n",
    "sum = 0\n",
    "for i in range(0,11):\n",
    "    sum = previous+i\n",
    "    print(f'Current Number: {i} Previous Number: {previous} Sum: {sum} ')\n",
    "    previous = i\n",
    "    "
   ]
  },
  {
   "cell_type": "code",
   "execution_count": 3,
   "id": "7e96432a",
   "metadata": {},
   "outputs": [
    {
     "name": "stdout",
     "output_type": "stream",
     "text": [
      "Pls type a wordyellow\n",
      "y\n",
      "l\n",
      "o\n"
     ]
    }
   ],
   "source": [
    "word = input('Pls type a word ')\n",
    "for i in range(len(word)):\n",
    "    if i%2==0:\n",
    "        print(word[i])"
   ]
  },
  {
   "cell_type": "code",
   "execution_count": null,
   "id": "6b82f9bd",
   "metadata": {},
   "outputs": [],
   "source": []
  }
 ],
 "metadata": {
  "kernelspec": {
   "display_name": "Python 3 (ipykernel)",
   "language": "python",
   "name": "python3"
  },
  "language_info": {
   "codemirror_mode": {
    "name": "ipython",
    "version": 3
   },
   "file_extension": ".py",
   "mimetype": "text/x-python",
   "name": "python",
   "nbconvert_exporter": "python",
   "pygments_lexer": "ipython3",
   "version": "3.9.13"
  }
 },
 "nbformat": 4,
 "nbformat_minor": 5
}
