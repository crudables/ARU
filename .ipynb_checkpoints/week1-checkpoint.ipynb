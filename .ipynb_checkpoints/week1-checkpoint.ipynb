{
 "cells": [
  {
   "cell_type": "markdown",
   "id": "6366deca",
   "metadata": {},
   "source": [
    "#### Write a program to accept two numbers from the user and calculate multiplication."
   ]
  },
  {
   "cell_type": "code",
   "execution_count": 11,
   "id": "e565dab5",
   "metadata": {},
   "outputs": [
    {
     "name": "stdout",
     "output_type": "stream",
     "text": [
      "Please a number 45\n",
      "please enter another number41\n",
      "1845\n"
     ]
    }
   ],
   "source": [
    "x = int(input('Please a number '))\n",
    "y = int(input('please enter another number'))\n",
    "multiply = x*y\n",
    "print(multiply)"
   ]
  },
  {
   "cell_type": "markdown",
   "id": "4ab16127",
   "metadata": {},
   "source": [
    "#### Display three string “Name”, “Is”, “James” as “Name**Is**James”."
   ]
  },
  {
   "cell_type": "code",
   "execution_count": 12,
   "id": "1885a8d8",
   "metadata": {},
   "outputs": [
    {
     "name": "stdout",
     "output_type": "stream",
     "text": [
      "Name ** is ** James\n"
     ]
    }
   ],
   "source": [
    "print('Name','**','is','**','James')"
   ]
  },
  {
   "cell_type": "markdown",
   "id": "bdd2c41e",
   "metadata": {},
   "source": [
    "#### Display float number with 2 decimal places using print(). \n",
    " "
   ]
  },
  {
   "cell_type": "code",
   "execution_count": 15,
   "id": "05dd894c",
   "metadata": {},
   "outputs": [
    {
     "name": "stdout",
     "output_type": "stream",
     "text": [
      "20.33\n"
     ]
    }
   ],
   "source": [
    "num = 20.32646\n",
    "print('%.2f'%num)"
   ]
  },
  {
   "cell_type": "markdown",
   "id": "9087dfc5",
   "metadata": {},
   "source": [
    "#### Write a program to take three names as input from a user in the single input() function call."
   ]
  },
  {
   "cell_type": "code",
   "execution_count": 20,
   "id": "f7565f4b",
   "metadata": {},
   "outputs": [
    {
     "name": "stdout",
     "output_type": "stream",
     "text": [
      "Pls enter three names separated by spaceSaheed Olalekan Awolaju\n",
      "Name1: Saheed\n",
      "Name2: Olalekan\n",
      "Name3: Awolaju\n"
     ]
    }
   ],
   "source": [
    "names = input('Pls enter three names separated by space')\n",
    "names = names.split()\n",
    "for i in range(0,3):\n",
    "    print(f'Name{i+1}: {names[i]}')"
   ]
  },
  {
   "cell_type": "markdown",
   "id": "8a369741",
   "metadata": {},
   "source": [
    "#### Given two integer numbers return their product only if the product is equal to or lower than 1000, \n",
    "else return their sum. "
   ]
  },
  {
   "cell_type": "code",
   "execution_count": 22,
   "id": "6b3c50d6",
   "metadata": {},
   "outputs": [
    {
     "name": "stdout",
     "output_type": "stream",
     "text": [
      "420\n"
     ]
    }
   ],
   "source": [
    "a = 20\n",
    "b = 400\n",
    "if a*b <= 1000:\n",
    "    print(a*b)\n",
    "else:\n",
    "    print(a+b)"
   ]
  },
  {
   "cell_type": "markdown",
   "id": "5ff5d134",
   "metadata": {},
   "source": [
    "#### Write a program to iterate the first 10 numbers and in each iteration, print the sum of the current and previous number."
   ]
  },
  {
   "cell_type": "code",
   "execution_count": 23,
   "id": "2c3bc073",
   "metadata": {},
   "outputs": [
    {
     "name": "stdout",
     "output_type": "stream",
     "text": [
      "Current Number: 0 Previous Number: 0 Sum: 0 \n",
      "Current Number: 1 Previous Number: 0 Sum: 1 \n",
      "Current Number: 2 Previous Number: 1 Sum: 3 \n",
      "Current Number: 3 Previous Number: 2 Sum: 5 \n",
      "Current Number: 4 Previous Number: 3 Sum: 7 \n",
      "Current Number: 5 Previous Number: 4 Sum: 9 \n",
      "Current Number: 6 Previous Number: 5 Sum: 11 \n",
      "Current Number: 7 Previous Number: 6 Sum: 13 \n",
      "Current Number: 8 Previous Number: 7 Sum: 15 \n",
      "Current Number: 9 Previous Number: 8 Sum: 17 \n",
      "Current Number: 10 Previous Number: 9 Sum: 19 \n"
     ]
    }
   ],
   "source": [
    "previous = 0\n",
    "sum = 0\n",
    "for i in range(0,11):\n",
    "    sum = previous+i\n",
    "    print(f'Current Number: {i} Previous Number: {previous} Sum: {sum} ')\n",
    "    previous = i\n",
    "    "
   ]
  },
  {
   "cell_type": "code",
   "execution_count": 5,
   "id": "7e96432a",
   "metadata": {},
   "outputs": [
    {
     "name": "stdout",
     "output_type": "stream",
     "text": [
      "Pls type a word Order\n",
      "O\n",
      "d\n",
      "r\n"
     ]
    }
   ],
   "source": [
    "word = input('Pls type a word ')\n",
    "for i in range(len(word)):\n",
    "    if i%2==0:\n",
    "        print(word[i])"
   ]
  },
  {
   "cell_type": "markdown",
   "id": "a49dea71",
   "metadata": {},
   "source": [
    "#### Write a program that calculate and prints John’s monthly net salary:"
   ]
  },
  {
   "cell_type": "code",
   "execution_count": 26,
   "id": "64ebc91d",
   "metadata": {},
   "outputs": [
    {
     "name": "stdout",
     "output_type": "stream",
     "text": [
      "1680.0\n"
     ]
    }
   ],
   "source": [
    "wage ='£80 per hour'\n",
    "Hours = '35 hours per week'\n",
    "tax = '15%'\n",
    "\n",
    "salary = 80 *35*4* 0.15\n",
    "print(salary)\n"
   ]
  },
  {
   "cell_type": "code",
   "execution_count": null,
   "id": "c947e723",
   "metadata": {},
   "outputs": [],
   "source": []
  }
 ],
 "metadata": {
  "kernelspec": {
   "display_name": "Python 3 (ipykernel)",
   "language": "python",
   "name": "python3"
  },
  "language_info": {
   "codemirror_mode": {
    "name": "ipython",
    "version": 3
   },
   "file_extension": ".py",
   "mimetype": "text/x-python",
   "name": "python",
   "nbconvert_exporter": "python",
   "pygments_lexer": "ipython3",
   "version": "3.9.13"
  }
 },
 "nbformat": 4,
 "nbformat_minor": 5
}
