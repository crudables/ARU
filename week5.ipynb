{
 "cells": [
  {
   "cell_type": "code",
   "execution_count": 24,
   "id": "71fb7fa7",
   "metadata": {},
   "outputs": [],
   "source": [
    "import numpy as np"
   ]
  },
  {
   "cell_type": "markdown",
   "id": "65503958",
   "metadata": {},
   "source": [
    "##### Exercise 1: Return odd rows and even columns"
   ]
  },
  {
   "cell_type": "code",
   "execution_count": 2,
   "id": "10741252",
   "metadata": {},
   "outputs": [],
   "source": [
    "sample = np.array([[3,6,9,12],[15,18,21,24],[27,30,33,36],[39,42,45,48],[51,54,57,60]])"
   ]
  },
  {
   "cell_type": "code",
   "execution_count": 3,
   "id": "b288f3d1",
   "metadata": {},
   "outputs": [
    {
     "data": {
      "text/plain": [
       "array([[ 3,  6,  9, 12],\n",
       "       [15, 18, 21, 24],\n",
       "       [27, 30, 33, 36],\n",
       "       [39, 42, 45, 48],\n",
       "       [51, 54, 57, 60]])"
      ]
     },
     "execution_count": 3,
     "metadata": {},
     "output_type": "execute_result"
    }
   ],
   "source": [
    "sample"
   ]
  },
  {
   "cell_type": "code",
   "execution_count": 4,
   "id": "59438a4e",
   "metadata": {},
   "outputs": [
    {
     "data": {
      "text/plain": [
       "array([[ 6, 12],\n",
       "       [30, 36],\n",
       "       [54, 60]])"
      ]
     },
     "execution_count": 4,
     "metadata": {},
     "output_type": "execute_result"
    }
   ],
   "source": [
    "odd_rows_even_columns = sample[::2,1::2]\n",
    "odd_rows_even_columns"
   ]
  },
  {
   "cell_type": "code",
   "execution_count": null,
   "id": "6c17289c",
   "metadata": {},
   "outputs": [],
   "source": []
  },
  {
   "cell_type": "markdown",
   "id": "835bcf4e",
   "metadata": {},
   "source": [
    "##### Excercise 2: "
   ]
  },
  {
   "cell_type": "code",
   "execution_count": 6,
   "id": "61883a20",
   "metadata": {},
   "outputs": [],
   "source": [
    "arrayOne = np.array([[5,6,9],[21,18,27]])\n",
    "arrayTwo = np.array([[15,33,24],[4,7,1]])"
   ]
  },
  {
   "cell_type": "code",
   "execution_count": 8,
   "id": "6a266910",
   "metadata": {},
   "outputs": [],
   "source": [
    "sum_arrays = arrayOne+arrayTwo"
   ]
  },
  {
   "cell_type": "code",
   "execution_count": 34,
   "id": "cb6bc3d4",
   "metadata": {},
   "outputs": [
    {
     "data": {
      "text/plain": [
       "array([[ 400, 1521, 1089],\n",
       "       [ 625,  625,  784]], dtype=int32)"
      ]
     },
     "execution_count": 34,
     "metadata": {},
     "output_type": "execute_result"
    }
   ],
   "source": [
    "sqrt_sum = np.square(sum_arrays)\n",
    "sqrt_sum"
   ]
  },
  {
   "cell_type": "code",
   "execution_count": null,
   "id": "375863df",
   "metadata": {},
   "outputs": [],
   "source": []
  },
  {
   "cell_type": "markdown",
   "id": "94bbe9d9",
   "metadata": {},
   "source": [
    "#### Exercise 3: Delete and Insert"
   ]
  },
  {
   "cell_type": "code",
   "execution_count": 52,
   "id": "33bc52f1",
   "metadata": {},
   "outputs": [
    {
     "data": {
      "text/plain": [
       "array([[10, 10, 10]])"
      ]
     },
     "execution_count": 52,
     "metadata": {},
     "output_type": "execute_result"
    }
   ],
   "source": [
    "sampleArray = np.array([[34,43,73],[82,22,12],[53,94,66]])\n",
    "newColumn = np.array([[10,10,10]])\n",
    "newColumn\n"
   ]
  },
  {
   "cell_type": "code",
   "execution_count": 56,
   "id": "1d4f3586",
   "metadata": {},
   "outputs": [
    {
     "data": {
      "text/plain": [
       "array([[34, 73],\n",
       "       [82, 12],\n",
       "       [53, 66]])"
      ]
     },
     "execution_count": 56,
     "metadata": {},
     "output_type": "execute_result"
    }
   ],
   "source": [
    "sampleArray = sampleArray[:,0::2]"
   ]
  },
  {
   "cell_type": "code",
   "execution_count": 57,
   "id": "fd821312",
   "metadata": {},
   "outputs": [],
   "source": [
    "sampleArray[:,1::2] = np.transpose(newColumn)"
   ]
  },
  {
   "cell_type": "code",
   "execution_count": 58,
   "id": "9e747ab4",
   "metadata": {},
   "outputs": [
    {
     "data": {
      "text/plain": [
       "array([[34, 10, 73],\n",
       "       [82, 10, 12],\n",
       "       [53, 10, 66]])"
      ]
     },
     "execution_count": 58,
     "metadata": {},
     "output_type": "execute_result"
    }
   ],
   "source": [
    "sampleArray"
   ]
  },
  {
   "cell_type": "code",
   "execution_count": null,
   "id": "a34306ab",
   "metadata": {},
   "outputs": [],
   "source": [
    "    "
   ]
  },
  {
   "cell_type": "markdown",
   "id": "c9f3a8df",
   "metadata": {},
   "source": [
    "##### Exercise 4: sorting by row and column"
   ]
  },
  {
   "cell_type": "markdown",
   "id": "52a1bcb9",
   "metadata": {},
   "source": [
    "###### sorting by second row"
   ]
  },
  {
   "cell_type": "code",
   "execution_count": 99,
   "id": "a5a537e8",
   "metadata": {},
   "outputs": [
    {
     "name": "stdout",
     "output_type": "stream",
     "text": [
      "[[34 43 73]\n",
      " [82 22 12]\n",
      " [53 94 66]]\n"
     ]
    }
   ],
   "source": [
    "sampleArray2 = np.array([[34,43,73],[82,22,12],[53,94,66]])\n",
    "print(sampleArray2)"
   ]
  },
  {
   "cell_type": "code",
   "execution_count": 100,
   "id": "487e63ae",
   "metadata": {},
   "outputs": [
    {
     "name": "stdout",
     "output_type": "stream",
     "text": [
      "[2 1 0]\n"
     ]
    }
   ],
   "source": [
    "sorting_index_1 = sampleArray2[1].argsort()\n",
    "print(sorting_index_1)"
   ]
  },
  {
   "cell_type": "code",
   "execution_count": 101,
   "id": "1604f83a",
   "metadata": {},
   "outputs": [
    {
     "name": "stdout",
     "output_type": "stream",
     "text": [
      "[[73 43 34]\n",
      " [12 22 82]\n",
      " [66 94 53]]\n"
     ]
    }
   ],
   "source": [
    "sorted_by_row = sampleArray2[:,sorting_index]\n",
    "print(sorted_by_row)"
   ]
  },
  {
   "cell_type": "markdown",
   "id": "0ca1e5a7",
   "metadata": {},
   "source": [
    "###### sorting by second column"
   ]
  },
  {
   "cell_type": "code",
   "execution_count": 97,
   "id": "998397dd",
   "metadata": {},
   "outputs": [
    {
     "name": "stdout",
     "output_type": "stream",
     "text": [
      "[[34 43 73]\n",
      " [82 22 12]\n",
      " [53 94 66]]\n"
     ]
    }
   ],
   "source": [
    "print(sampleArray2)"
   ]
  },
  {
   "cell_type": "code",
   "execution_count": 104,
   "id": "434c7cc0",
   "metadata": {},
   "outputs": [
    {
     "name": "stdout",
     "output_type": "stream",
     "text": [
      "[2 1 0]\n"
     ]
    }
   ],
   "source": [
    "\n",
    "sorting_index_2 = sampleArray2[:,1].argsort()\n",
    "print(sorting_index_2)"
   ]
  },
  {
   "cell_type": "code",
   "execution_count": 96,
   "id": "af59656f",
   "metadata": {},
   "outputs": [
    {
     "name": "stdout",
     "output_type": "stream",
     "text": [
      "[[82 22 12]\n",
      " [34 43 73]\n",
      " [53 94 66]]\n"
     ]
    }
   ],
   "source": [
    "sorted_2_column = sampleArray2[sorting_index]\n",
    "print(sorted_2_column)"
   ]
  },
  {
   "cell_type": "markdown",
   "id": "02de6116",
   "metadata": {},
   "source": [
    "##### Exercise 5"
   ]
  },
  {
   "cell_type": "code",
   "execution_count": 19,
   "id": "a3f7a3e5",
   "metadata": {},
   "outputs": [],
   "source": [
    "Z = [2, 3, 6, 7, 9, 8, 4, 7, 9, 2, 1, 0, 4]\n",
    "# for i in range(len(Z)):\n",
    "#     if Z[i]>=3 and Z[i] <=8:\n",
    "#         Z[i] = int('-'+str(Z[i]))\n",
    "        \n",
    "# print(Z)"
   ]
  },
  {
   "cell_type": "code",
   "execution_count": 32,
   "id": "6d38afad",
   "metadata": {},
   "outputs": [
    {
     "data": {
      "text/plain": [
       "array([ 2, -3, -6, -7,  9, -8, -4, -7,  9,  2,  1,  0, -4])"
      ]
     },
     "execution_count": 32,
     "metadata": {},
     "output_type": "execute_result"
    }
   ],
   "source": [
    "Z = np.array(Z)\n",
    "a = np.where(np.logical_and(Z>3,Z < 8),-Z,Z)\n",
    "a"
   ]
  },
  {
   "cell_type": "code",
   "execution_count": null,
   "id": "501001ee",
   "metadata": {},
   "outputs": [],
   "source": []
  }
 ],
 "metadata": {
  "kernelspec": {
   "display_name": "Python 3 (ipykernel)",
   "language": "python",
   "name": "python3"
  },
  "language_info": {
   "codemirror_mode": {
    "name": "ipython",
    "version": 3
   },
   "file_extension": ".py",
   "mimetype": "text/x-python",
   "name": "python",
   "nbconvert_exporter": "python",
   "pygments_lexer": "ipython3",
   "version": "3.9.13"
  }
 },
 "nbformat": 4,
 "nbformat_minor": 5
}
