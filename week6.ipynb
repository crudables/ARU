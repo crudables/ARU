{
 "cells": [
  {
   "cell_type": "markdown",
   "id": "c851be6a",
   "metadata": {},
   "source": [
    "##### Exercise 1"
   ]
  },
  {
   "cell_type": "markdown",
   "id": "0bf0817a",
   "metadata": {},
   "source": [
    "Generate a 10 x 3 array of random numbers (in range [0,1]"
   ]
  },
  {
   "cell_type": "code",
   "execution_count": 51,
   "id": "9a836134",
   "metadata": {},
   "outputs": [],
   "source": [
    "ranNum = np.random.random(30)\n"
   ]
  },
  {
   "cell_type": "code",
   "execution_count": 54,
   "id": "b4a6a4cc",
   "metadata": {
    "scrolled": true
   },
   "outputs": [],
   "source": [
    "ranNum = ranNum.reshape(10,3)\n"
   ]
  },
  {
   "cell_type": "code",
   "execution_count": 100,
   "id": "3847269b",
   "metadata": {},
   "outputs": [
    {
     "data": {
      "text/plain": [
       "array([[0.41661487, 0.3835787 , 0.37951521],\n",
       "       [0.51421529, 0.16965253, 0.58714317],\n",
       "       [0.87104174, 0.60619355, 0.72130881],\n",
       "       [0.71544827, 0.10811338, 0.35514347],\n",
       "       [0.882992  , 0.84227257, 0.91903473],\n",
       "       [0.03061783, 0.02860649, 0.63162084],\n",
       "       [0.94188722, 0.00103836, 0.61841725],\n",
       "       [0.65510884, 0.10278709, 0.20018624],\n",
       "       [0.22338649, 0.05863427, 0.54608343],\n",
       "       [0.63976507, 0.83711222, 0.05923676]])"
      ]
     },
     "execution_count": 100,
     "metadata": {},
     "output_type": "execute_result"
    }
   ],
   "source": [
    "ranNum"
   ]
  },
  {
   "cell_type": "code",
   "execution_count": 55,
   "id": "16a70d27",
   "metadata": {},
   "outputs": [
    {
     "data": {
      "text/plain": [
       "(10, 3)"
      ]
     },
     "execution_count": 55,
     "metadata": {},
     "output_type": "execute_result"
    }
   ],
   "source": [
    "ranNum.shape"
   ]
  },
  {
   "cell_type": "markdown",
   "id": "717c1293",
   "metadata": {},
   "source": [
    "For each element, compute the distance to 0.5."
   ]
  },
  {
   "cell_type": "code",
   "execution_count": 56,
   "id": "4c70b34b",
   "metadata": {},
   "outputs": [],
   "source": [
    "dis_to = abs(ranNum-0.5)"
   ]
  },
  {
   "cell_type": "code",
   "execution_count": 73,
   "id": "d559a3a2",
   "metadata": {},
   "outputs": [
    {
     "data": {
      "text/plain": [
       "array([[0.08338513, 0.1164213 , 0.12048479],\n",
       "       [0.01421529, 0.33034747, 0.08714317],\n",
       "       [0.37104174, 0.10619355, 0.22130881],\n",
       "       [0.21544827, 0.39188662, 0.14485653],\n",
       "       [0.382992  , 0.34227257, 0.41903473],\n",
       "       [0.46938217, 0.47139351, 0.13162084],\n",
       "       [0.44188722, 0.49896164, 0.11841725],\n",
       "       [0.15510884, 0.39721291, 0.29981376],\n",
       "       [0.27661351, 0.44136573, 0.04608343],\n",
       "       [0.13976507, 0.33711222, 0.44076324]])"
      ]
     },
     "execution_count": 73,
     "metadata": {},
     "output_type": "execute_result"
    }
   ],
   "source": [
    "dis_to"
   ]
  },
  {
   "cell_type": "markdown",
   "id": "2078ea9f",
   "metadata": {},
   "source": [
    "return the indices that would sort an array (closest to farthest from 0.5 – horizontally) "
   ]
  },
  {
   "cell_type": "code",
   "execution_count": 110,
   "id": "22af8f37",
   "metadata": {},
   "outputs": [],
   "source": [
    "sort_far_hor = np.argsort(dis_to,axis=1)"
   ]
  },
  {
   "cell_type": "code",
   "execution_count": 125,
   "id": "fdfc3de2",
   "metadata": {},
   "outputs": [
    {
     "data": {
      "text/plain": [
       "array([[0, 1, 2],\n",
       "       [0, 2, 1],\n",
       "       [1, 2, 0],\n",
       "       [2, 0, 1],\n",
       "       [1, 0, 2],\n",
       "       [2, 0, 1],\n",
       "       [2, 0, 1],\n",
       "       [0, 2, 1],\n",
       "       [2, 0, 1],\n",
       "       [0, 1, 2]], dtype=int64)"
      ]
     },
     "execution_count": 125,
     "metadata": {},
     "output_type": "execute_result"
    }
   ],
   "source": [
    "sort_far_hor"
   ]
  },
  {
   "cell_type": "code",
   "execution_count": 151,
   "id": "ecc5d225",
   "metadata": {},
   "outputs": [],
   "source": [
    "# np.argmin(dis_to,axis=1)\n",
    "\n",
    "min_index = sort_far_hor[:,0:1]"
   ]
  },
  {
   "cell_type": "code",
   "execution_count": 138,
   "id": "1d676563",
   "metadata": {},
   "outputs": [],
   "source": [
    " sort_far_hor_index = min_index.flatten()"
   ]
  },
  {
   "cell_type": "code",
   "execution_count": 149,
   "id": "033bce0d",
   "metadata": {},
   "outputs": [
    {
     "data": {
      "text/plain": [
       "0.6397650685994237"
      ]
     },
     "execution_count": 149,
     "metadata": {},
     "output_type": "execute_result"
    }
   ],
   "source": [
    "# closest_val = []\n",
    "ranNum[9][sort_far_hor_index[9]]"
   ]
  },
  {
   "cell_type": "code",
   "execution_count": 166,
   "id": "51f148d9",
   "metadata": {},
   "outputs": [
    {
     "data": {
      "text/plain": [
       "array([[0.41661487, 0.41661487, 0.3835787 , 0.37951521, 0.3835787 ,\n",
       "        0.37951521, 0.37951521, 0.41661487, 0.37951521, 0.41661487],\n",
       "       [0.51421529, 0.51421529, 0.16965253, 0.58714317, 0.16965253,\n",
       "        0.58714317, 0.58714317, 0.51421529, 0.58714317, 0.51421529],\n",
       "       [0.87104174, 0.87104174, 0.60619355, 0.72130881, 0.60619355,\n",
       "        0.72130881, 0.72130881, 0.87104174, 0.72130881, 0.87104174],\n",
       "       [0.71544827, 0.71544827, 0.10811338, 0.35514347, 0.10811338,\n",
       "        0.35514347, 0.35514347, 0.71544827, 0.35514347, 0.71544827],\n",
       "       [0.882992  , 0.882992  , 0.84227257, 0.91903473, 0.84227257,\n",
       "        0.91903473, 0.91903473, 0.882992  , 0.91903473, 0.882992  ],\n",
       "       [0.03061783, 0.03061783, 0.02860649, 0.63162084, 0.02860649,\n",
       "        0.63162084, 0.63162084, 0.03061783, 0.63162084, 0.03061783],\n",
       "       [0.94188722, 0.94188722, 0.00103836, 0.61841725, 0.00103836,\n",
       "        0.61841725, 0.61841725, 0.94188722, 0.61841725, 0.94188722],\n",
       "       [0.65510884, 0.65510884, 0.10278709, 0.20018624, 0.10278709,\n",
       "        0.20018624, 0.20018624, 0.65510884, 0.20018624, 0.65510884],\n",
       "       [0.22338649, 0.22338649, 0.05863427, 0.54608343, 0.05863427,\n",
       "        0.54608343, 0.54608343, 0.22338649, 0.54608343, 0.22338649],\n",
       "       [0.63976507, 0.63976507, 0.83711222, 0.05923676, 0.83711222,\n",
       "        0.05923676, 0.05923676, 0.63976507, 0.05923676, 0.63976507]])"
      ]
     },
     "execution_count": 166,
     "metadata": {},
     "output_type": "execute_result"
    }
   ],
   "source": [
    "# for a in range(10):\n",
    "#     closest_val[a] = ranNum[a][sort_far_hor_index[a]]\n",
    "# #     print(closest_val)\n",
    "\n",
    "ranNum[:,sort_far_hor_index]"
   ]
  },
  {
   "cell_type": "markdown",
   "id": "e427d37d",
   "metadata": {},
   "source": [
    "###### Exercise 2"
   ]
  },
  {
   "cell_type": "code",
   "execution_count": 156,
   "id": "d4f2a39a",
   "metadata": {},
   "outputs": [],
   "source": [
    "div = np.array([5,4,6,10,24,89,45,43,46,99,100])"
   ]
  },
  {
   "cell_type": "markdown",
   "id": "a7bac739",
   "metadata": {},
   "source": [
    "##### Not divisible by 3"
   ]
  },
  {
   "cell_type": "code",
   "execution_count": 159,
   "id": "d097865f",
   "metadata": {},
   "outputs": [],
   "source": [
    "not_div_3 = div[div%3 == 1]"
   ]
  },
  {
   "cell_type": "code",
   "execution_count": 160,
   "id": "ba1deae4",
   "metadata": {},
   "outputs": [
    {
     "data": {
      "text/plain": [
       "array([  4,  10,  43,  46, 100])"
      ]
     },
     "execution_count": 160,
     "metadata": {},
     "output_type": "execute_result"
    }
   ],
   "source": [
    "div_3"
   ]
  },
  {
   "cell_type": "markdown",
   "id": "821fbee2",
   "metadata": {},
   "source": [
    "##### Divisible by 5"
   ]
  },
  {
   "cell_type": "code",
   "execution_count": 161,
   "id": "e10c32b7",
   "metadata": {},
   "outputs": [
    {
     "data": {
      "text/plain": [
       "array([  5,  10,  45, 100])"
      ]
     },
     "execution_count": 161,
     "metadata": {},
     "output_type": "execute_result"
    }
   ],
   "source": [
    "div_5 = div[div % 5 == 0]\n",
    "div_5"
   ]
  },
  {
   "cell_type": "markdown",
   "id": "af4dc3a2",
   "metadata": {},
   "source": [
    "##### Divisible by 3 and 5"
   ]
  },
  {
   "cell_type": "code",
   "execution_count": 162,
   "id": "e4e90087",
   "metadata": {},
   "outputs": [],
   "source": [
    "div_3_and_5 = div[np.logical_and(div % 3 == 0,div % 5 == 0)]"
   ]
  },
  {
   "cell_type": "code",
   "execution_count": 163,
   "id": "d99a9837",
   "metadata": {},
   "outputs": [
    {
     "data": {
      "text/plain": [
       "array([45])"
      ]
     },
     "execution_count": 163,
     "metadata": {},
     "output_type": "execute_result"
    }
   ],
   "source": [
    "div_3_and_5"
   ]
  },
  {
   "cell_type": "markdown",
   "id": "0e598064",
   "metadata": {},
   "source": [
    "##### Divisible by 3 and set them to 42"
   ]
  },
  {
   "cell_type": "code",
   "execution_count": 164,
   "id": "74746173",
   "metadata": {},
   "outputs": [],
   "source": [
    "div_3_to_42 = np.where(div % 3 == 0,42,div)"
   ]
  },
  {
   "cell_type": "code",
   "execution_count": 165,
   "id": "ef7bd298",
   "metadata": {},
   "outputs": [
    {
     "data": {
      "text/plain": [
       "array([  5,   4,  42,  10,  42,  89,  42,  43,  46,  42, 100])"
      ]
     },
     "execution_count": 165,
     "metadata": {},
     "output_type": "execute_result"
    }
   ],
   "source": [
    "div_3_to_42"
   ]
  },
  {
   "cell_type": "markdown",
   "id": "8508f86c",
   "metadata": {},
   "source": [
    "#### Exercise 3"
   ]
  },
  {
   "cell_type": "markdown",
   "id": "8f0216b8",
   "metadata": {},
   "source": [
    "##### Calculate the prime numbers between 0 and 100 by using a Boolean array"
   ]
  },
  {
   "cell_type": "code",
   "execution_count": null,
   "id": "95a3043b",
   "metadata": {},
   "outputs": [],
   "source": []
  }
 ],
 "metadata": {
  "kernelspec": {
   "display_name": "Python 3 (ipykernel)",
   "language": "python",
   "name": "python3"
  },
  "language_info": {
   "codemirror_mode": {
    "name": "ipython",
    "version": 3
   },
   "file_extension": ".py",
   "mimetype": "text/x-python",
   "name": "python",
   "nbconvert_exporter": "python",
   "pygments_lexer": "ipython3",
   "version": "3.9.13"
  }
 },
 "nbformat": 4,
 "nbformat_minor": 5
}
